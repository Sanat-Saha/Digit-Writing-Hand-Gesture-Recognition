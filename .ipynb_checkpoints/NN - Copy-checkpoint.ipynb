{
 "cells": [
  {
   "cell_type": "code",
   "execution_count": 23,
   "metadata": {},
   "outputs": [],
   "source": [
    "import numpy as np\n",
    "import tflearn\n",
    "import csv\n",
    "import tensorflow as tf"
   ]
  },
  {
   "cell_type": "code",
   "execution_count": 4,
   "metadata": {},
   "outputs": [],
   "source": [
    "X = np.empty((0,48), float)\n",
    "Y = np.empty(0, str)\n",
    "i = 0\n",
    "r = csv.reader(open('Features/Normalizedfeatures.csv',\"rt\"),delimiter=',') # Here your csv file\n",
    "for l in r:\n",
    "    if i == 1:\n",
    "        X = np.append(X, np.array([l[0:48]]), axis=0)\n",
    "        Y = np.append(Y, np.array([l[48]]), axis=0)\n",
    "    else:\n",
    "        i = 1\n",
    "        features = l[0:48]\n",
    "        output = l[48]\n",
    "        \n",
    "X = X.astype(float)\n",
    "Y = Y.astype(str)"
   ]
  },
  {
   "cell_type": "code",
   "execution_count": 12,
   "metadata": {},
   "outputs": [],
   "source": [
    "y = np.zeros((len(Y),10),float)\n",
    "j=0\n",
    "for i in Y:\n",
    "    y[j][i] = 1\n",
    "    j += 1\n",
    "y = y.astype(float)\n",
    "# len(Y)"
   ]
  },
  {
   "cell_type": "code",
   "execution_count": 16,
   "metadata": {},
   "outputs": [
    {
     "data": {
      "text/plain": [
       "array([[ 0.10637215,  2.00344034,  0.72776163, ..., -0.48220748,\n",
       "        -0.6708805 , -0.4465065 ],\n",
       "       [ 0.28683624,  1.72583628, -0.3111975 , ..., -0.47475838,\n",
       "        -0.70906646, -0.57172565],\n",
       "       [ 0.36179887,  2.00344034, -0.40245144, ..., -0.45940058,\n",
       "        -0.71597151, -0.30288507],\n",
       "       ..., \n",
       "       [ 0.78275954, -0.94686456, -0.69467349, ..., -0.1525524 ,\n",
       "         0.05956216,  0.31985558],\n",
       "       [ 0.78275954, -0.28333323,  0.05314992, ..., -0.26971117,\n",
       "        -0.31651956,  0.26273887],\n",
       "       [ 0.23967964, -0.80607453, -0.8241448 , ..., -0.31122005,\n",
       "        -0.44796828, -0.47527918]])"
      ]
     },
     "execution_count": 16,
     "metadata": {},
     "output_type": "execute_result"
    }
   ],
   "source": [
    "X"
   ]
  },
  {
   "cell_type": "code",
   "execution_count": 17,
   "metadata": {
    "collapsed": true
   },
   "outputs": [],
   "source": [
    "number_of_samples = len(y)\n",
    "#Splitting into training, validation and test sets\n",
    "random_indices = np.random.permutation(number_of_samples)\n",
    "#Training set\n",
    "num_training_samples = int(number_of_samples*0.80)\n",
    "X_train = X[random_indices[:num_training_samples]]\n",
    "Y_train = y[random_indices[:num_training_samples]]\n",
    "#Validation set\n",
    "# num_validation_samples = int(number_of_samples*0.20)\n",
    "# X_val = X[random_indices[num_training_samples : num_training_samples+num_validation_samples]]\n",
    "# Y_val = Y[random_indices[num_training_samples: num_training_samples+num_validation_samples]]\n",
    "#Test set\n",
    "num_test_samples = int(number_of_samples*0.20)\n",
    "X_test = X[random_indices[-num_test_samples:]]\n",
    "Y_test = y[random_indices[-num_test_samples:]]"
   ]
  },
  {
   "cell_type": "code",
   "execution_count": 26,
   "metadata": {
    "collapsed": true
   },
   "outputs": [],
   "source": [
    "tflearn.init_graph(num_cores=4)\n",
    "\n",
    "net = tflearn.input_data(shape=[None, 48])\n",
    "net = tflearn.fully_connected(net, 30, activation='relu')\n",
    "net = tflearn.fully_connected(net, 10, activation='softmax')\n",
    "\n",
    "net = tflearn.regression(net, loss='categorical_crossentropy', optimizer='adam')\n",
    "\n",
    "model = tflearn.DNN(net)"
   ]
  },
  {
   "cell_type": "code",
   "execution_count": 30,
   "metadata": {
    "scrolled": true
   },
   "outputs": [
    {
     "name": "stdout",
     "output_type": "stream",
     "text": [
      "Training Step: 3395  | total loss: \u001b[1m\u001b[32m0.24513\u001b[0m\u001b[0m | time: 0.503s\n",
      "| Adam | epoch: 041 | loss: 0.24513 - acc: 0.9335 -- iter: 1050/1055\n",
      "Training Step: 3396  | total loss: \u001b[1m\u001b[32m0.23092\u001b[0m\u001b[0m | time: 0.509s\n",
      "| Adam | epoch: 041 | loss: 0.23092 - acc: 0.9402 -- iter: 1055/1055\n",
      "--\n"
     ]
    }
   ],
   "source": [
    "model.fit(X, y, n_epoch=20, batch_size=10, show_metric=True)"
   ]
  },
  {
   "cell_type": "code",
   "execution_count": 25,
   "metadata": {},
   "outputs": [
    {
     "data": {
      "text/plain": [
       "<tf.Tensor 'FullyConnected_2/Softmax:0' shape=(?, 10) dtype=float32>"
      ]
     },
     "execution_count": 25,
     "metadata": {},
     "output_type": "execute_result"
    }
   ],
   "source": []
  },
  {
   "cell_type": "code",
   "execution_count": null,
   "metadata": {},
   "outputs": [],
   "source": [
    "# Parameters\n",
    "learning_rate = 0.001\n",
    "training_epochs = 15\n",
    "batch_size = 100\n",
    "display_step = 1\n",
    "\n",
    "# Network Parameters\n",
    "n_hidden_1 = 256 # 1st layer number of features\n",
    "n_hidden_2 = 256 # 2nd layer number of features\n",
    "n_input = 784 # MNIST data input (img shape: 28*28)\n",
    "n_classes = 10 # MNIST total classes (0-9 digits)\n",
    "\n",
    "# tf Graph input\n",
    "x = tf.placeholder(\"float\", [None, n_input])\n",
    "y = tf.placeholder(\"float\", [None, n_classes])"
   ]
  },
  {
   "cell_type": "code",
   "execution_count": null,
   "metadata": {
    "collapsed": true
   },
   "outputs": [],
   "source": [
    "def multilayer_perceptron(x, weights, biases):\n",
    "    # Hidden layer with RELU activation\n",
    "    layer_1 = tf.add(tf.matmul(x, weights['h1']), biases['b1'])\n",
    "    layer_1 = tf.nn.relu(layer_1)\n",
    "    # Hidden layer with RELU activation\n",
    "    layer_2 = tf.add(tf.matmul(layer_1, weights['h2']), biases['b2'])\n",
    "    layer_2 = tf.nn.relu(layer_2)\n",
    "    # Output layer with linear activation\n",
    "    out_layer = tf.matmul(layer_2, weights['out']) + biases['out']\n",
    "    return out_layer"
   ]
  },
  {
   "cell_type": "code",
   "execution_count": null,
   "metadata": {
    "collapsed": true
   },
   "outputs": [],
   "source": [
    "# Store layers weight & bias\n",
    "weights = {\n",
    "    'h1': tf.Variable(tf.random_normal([n_input, n_hidden_1])),\n",
    "    'h2': tf.Variable(tf.random_normal([n_hidden_1, n_hidden_2])),\n",
    "    'out': tf.Variable(tf.random_normal([n_hidden_2, n_classes]))\n",
    "}\n",
    "biases = {\n",
    "    'b1': tf.Variable(tf.random_normal([n_hidden_1])),\n",
    "    'b2': tf.Variable(tf.random_normal([n_hidden_2])),\n",
    "    'out': tf.Variable(tf.random_normal([n_classes]))\n",
    "}\n",
    "\n",
    "# Construct model\n",
    "pred = multilayer_perceptron(x, weights, biases)\n",
    "\n",
    "# Define loss and optimizer\n",
    "cost = tf.reduce_mean(tf.nn.softmax_cross_entropy_with_logits(logits=pred, labels=y))\n",
    "optimizer = tf.train.AdamOptimizer(learning_rate=learning_rate).minimize(cost)\n",
    "\n",
    "# Initializing the variables\n",
    "init = tf.global_variables_initializer()"
   ]
  },
  {
   "cell_type": "code",
   "execution_count": null,
   "metadata": {},
   "outputs": [],
   "source": [
    "# Launch the graph\n",
    "with tf.Session() as sess:\n",
    "    sess.run(init)\n",
    "\n",
    "    # Training cycle\n",
    "    for epoch in range(training_epochs):\n",
    "        avg_cost = 0.\n",
    "        total_batch = int(mnist.train.num_examples/batch_size)\n",
    "        # Loop over all batches\n",
    "        for i in range(total_batch):\n",
    "            batch_x, batch_y = mnist.train.next_batch(batch_size)\n",
    "            # Run optimization op (backprop) and cost op (to get loss value)\n",
    "            _, c = sess.run([optimizer, cost], feed_dict={x: batch_x,\n",
    "                                                          y: batch_y})\n",
    "            # Compute average loss\n",
    "            avg_cost += c / total_batch\n",
    "        # Display logs per epoch step\n",
    "        if epoch % display_step == 0:\n",
    "            print (\"Epoch:\", '%04d' % (epoch+1), \"cost=\", \"{:.9f}\".format(avg_cost))\n",
    "    print(\"Optimization Finished!\")\n",
    "\n",
    "    # Test model\n",
    "    correct_prediction = tf.equal(tf.argmax(pred, 1), tf.argmax(y, 1))\n",
    "    # Calculate accuracy\n",
    "    accuracy = tf.reduce_mean(tf.cast(correct_prediction, \"float\"))\n",
    "    print(\"Accuracy:\", accuracy.eval({x: mnist.test.images, y: mnist.test.labels}))"
   ]
  },
  {
   "cell_type": "code",
   "execution_count": null,
   "metadata": {},
   "outputs": [],
   "source": [
    "model.fit(X_train, Y_train, n_epoch=1,batch_size=10, show_metric=True)"
   ]
  },
  {
   "cell_type": "code",
   "execution_count": null,
   "metadata": {},
   "outputs": [],
   "source": [
    "model = xgboost.XGBClassifier(max_depth=6, n_estimators=1000, learning_rate=0.1, subsample=1, objective='multi:softmax')\n",
    "\n",
    "model.fit(X_train, Y_train)\n",
    "# with open('model.pkl', 'wb') as fid:\n",
    "#     cPickle.dump(model, fid)\n",
    "\n",
    "test_set_predictions = model.predict(X_test)\n",
    "\n",
    "test_misclassification_percentage = 0.0\n",
    "for i in range(len(test_set_predictions)):\n",
    "    if test_set_predictions[i]!=Y_test[i]:\n",
    "        test_misclassification_percentage+=1.0\n",
    "test_misclassification_percentage *= 100.0/len(Y_test)\n",
    "print 'test misclassification percentage =', test_misclassification_percentage, '%'\n",
    "\n",
    "train_set_predictions = model.predict(X_train)\n",
    "\n",
    "train_misclassification_percentage = 0.0\n",
    "for i in range(len(train_set_predictions)):\n",
    "    if train_set_predictions[i]!=Y_train[i]:\n",
    "        train_misclassification_percentage+=1.0\n",
    "train_misclassification_percentage *= 100.0/len(Y_train)\n",
    "print 'train misclassification percentage =', train_misclassification_percentage, '%'"
   ]
  },
  {
   "cell_type": "code",
   "execution_count": null,
   "metadata": {},
   "outputs": [],
   "source": [
    "# lda = LinearDiscriminantAnalysis().fit(X,Y)\n",
    "# with open('lda.pkl', 'wb') as fid:\n",
    "#     cPickle.dump(lda, fid)\n",
    "model = xgboost.XGBClassifier(max_depth=3, n_estimators=500, learning_rate=0.1, subsample=1, objective='multi:softmax').fit(X,Y)\n",
    "with open('model.pkl', 'wb') as fid:\n",
    "    cPickle.dump(model, fid)"
   ]
  },
  {
   "cell_type": "code",
   "execution_count": null,
   "metadata": {},
   "outputs": [],
   "source": [
    "X_train.next_batch(10)"
   ]
  },
  {
   "cell_type": "code",
   "execution_count": null,
   "metadata": {},
   "outputs": [],
   "source": [
    "from tensorflow.examples.tutorials.mnist import input_data\n",
    "mnist = input_data.read_data_sets(\"MNIST_data/\", one_hot=True)"
   ]
  },
  {
   "cell_type": "code",
   "execution_count": null,
   "metadata": {},
   "outputs": [],
   "source": [
    "len(X_train[0])"
   ]
  }
 ],
 "metadata": {
  "anaconda-cloud": {},
  "kernelspec": {
   "display_name": "Python 3",
   "language": "python",
   "name": "python3"
  },
  "language_info": {
   "codemirror_mode": {
    "name": "ipython",
    "version": 3
   },
   "file_extension": ".py",
   "mimetype": "text/x-python",
   "name": "python",
   "nbconvert_exporter": "python",
   "pygments_lexer": "ipython3",
   "version": "3.5.3"
  }
 },
 "nbformat": 4,
 "nbformat_minor": 1
}
