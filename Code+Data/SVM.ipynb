{
 "cells": [
  {
   "cell_type": "code",
   "execution_count": 19,
   "metadata": {
    "collapsed": false
   },
   "outputs": [],
   "source": [
    "import numpy as np\n",
    "import csv\n",
    "from sklearn import svm \n",
    "from sklearn.model_selection import KFold"
   ]
  },
  {
   "cell_type": "code",
   "execution_count": 20,
   "metadata": {
    "collapsed": true
   },
   "outputs": [],
   "source": [
    "X = np.empty((0,48), float)\n",
    "Y = np.empty(0, str)\n",
    "i = 0\n",
    "r = csv.reader(open('Features/features.csv',\"rb\"),delimiter=',') # Here your csv file\n",
    "for l in r:\n",
    "    if i == 1:\n",
    "        if not np.isnan(map(float,l)).any():\n",
    "            X = np.append(X, np.array([l[0:48]]), axis=0)\n",
    "            Y = np.append(Y, np.array([l[48]]), axis=0)\n",
    "    else:\n",
    "        i = 1\n",
    "        features = l[0:48]\n",
    "        output = l[48]\n",
    "        \n",
    "X = X.astype(float)\n",
    "Y = Y.astype(str)"
   ]
  },
  {
   "cell_type": "code",
   "execution_count": 21,
   "metadata": {
    "collapsed": true
   },
   "outputs": [],
   "source": [
    "model = svm.SVC(kernel='poly')"
   ]
  },
  {
   "cell_type": "code",
   "execution_count": 22,
   "metadata": {
    "collapsed": false
   },
   "outputs": [
    {
     "name": "stdout",
     "output_type": "stream",
     "text": [
      "accuracy = 73.5897435897 %\n"
     ]
    }
   ],
   "source": [
    "error=[]\n",
    "kf = KFold(n_splits=10,shuffle = True)\n",
    "for train_index, test_index in kf.split(X):\n",
    "    X_train, X_test = X[train_index], X[test_index]\n",
    "    Y_train, Y_test = Y[train_index], Y[test_index]\n",
    "    model.fit(X_train,Y_train)\n",
    "    test_set_predictions = model.predict(X_test)\n",
    "\n",
    "    test_misclassification_percentage = 0.0\n",
    "    for i in range(len(test_set_predictions)):\n",
    "        if test_set_predictions[i]!=Y_test[i]:\n",
    "            test_misclassification_percentage+=1.0\n",
    "    test_misclassification_percentage *= 100.0/len(Y_test)\n",
    "    error.append(test_misclassification_percentage)\n",
    "print('accuracy =', (100.0-np.mean(error)), '%')"
   ]
  }
 ],
 "metadata": {
  "anaconda-cloud": {},
  "kernelspec": {
   "display_name": "Python [Root]",
   "language": "python",
   "name": "Python [Root]"
  },
  "language_info": {
   "codemirror_mode": {
    "name": "ipython",
    "version": 2
   },
   "file_extension": ".py",
   "mimetype": "text/x-python",
   "name": "python",
   "nbconvert_exporter": "python",
   "pygments_lexer": "ipython2",
   "version": "2.7.12"
  }
 },
 "nbformat": 4,
 "nbformat_minor": 0
}
