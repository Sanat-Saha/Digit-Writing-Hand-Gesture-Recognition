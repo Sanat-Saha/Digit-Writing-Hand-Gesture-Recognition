{
 "cells": [
  {
   "cell_type": "code",
   "execution_count": 1,
   "metadata": {
    "collapsed": false
   },
   "outputs": [],
   "source": [
    "import numpy as np\n",
    "import csv\n",
    "from os import listdir\n",
    "from os.path import isfile, join"
   ]
  },
  {
   "cell_type": "code",
   "execution_count": 2,
   "metadata": {
    "collapsed": false
   },
   "outputs": [],
   "source": [
    "files9  = [f for f in listdir('DataSet/9') if isfile(join('DataSet/9', f))] \n",
    "files8  = [f for f in listdir('DataSet/8') if isfile(join('DataSet/8', f))]\n",
    "files7  = [f for f in listdir('DataSet/7') if isfile(join('DataSet/7', f))] \n",
    "files6  = [f for f in listdir('DataSet/6') if isfile(join('DataSet/6', f))] \n",
    "files5  = [f for f in listdir('DataSet/5') if isfile(join('DataSet/5', f))]\n",
    "files4  = [f for f in listdir('DataSet/4') if isfile(join('DataSet/4', f))] \n",
    "files3  = [f for f in listdir('DataSet/3') if isfile(join('DataSet/3', f))]\n",
    "files2  = [f for f in listdir('DataSet/2') if isfile(join('DataSet/2', f))] \n",
    "files1  = [f for f in listdir('DataSet/1') if isfile(join('DataSet/1', f))]\n",
    "files0  = [f for f in listdir('DataSet/0') if isfile(join('DataSet/0', f))]\n",
    "files = []\n",
    "\n",
    "for i in files9:\n",
    "    files.append([i,'9'])\n",
    "    \n",
    "for i in files8:\n",
    "    files.append([i,'8'])\n",
    "\n",
    "for i in files7:\n",
    "    files.append([i,'7'])\n",
    "\n",
    "for i in files6:\n",
    "    files.append([i,'6'])\n",
    "    \n",
    "for i in files5:\n",
    "    files.append([i,'5'])\n",
    "\n",
    "for i in files4:\n",
    "    files.append([i,'4'])\n",
    "    \n",
    "for i in files3:\n",
    "    files.append([i,'3'])\n",
    "\n",
    "for i in files2:\n",
    "    files.append([i,'2'])\n",
    "    \n",
    "for i in files1:\n",
    "    files.append([i,'1'])\n",
    "    \n",
    "for i in files0:\n",
    "    files.append([i,'0'])\n",
    "    \n",
    "read_path = 'DataSet/'\n",
    "write_path = 'DataCleaned/'\n",
    "\n",
    "for counter in range(len(files)):\n",
    "    subfolder =  files[counter][1]\n",
    "    tag = files[counter][1] \n",
    "    read_file_path = read_path + subfolder +'/'+files[counter][0]\n",
    "    read_file = open(read_file_path,\"rU\")\n",
    "    r = csv.reader(read_file,delimiter=',')\n",
    "    write_file_path = write_path + subfolder +'/'+files[counter][0]\n",
    "    write_file = open(write_file_path,\"w\")\n",
    "#     w = csv.reader(write_file,delimiter=',')\n",
    "    data = np.empty((0,5), float)\n",
    "    for l in r:\n",
    "        data = np.append(data, np.array([l[0:5]]), axis=0)\n",
    "    data = data.astype(float)\n",
    "    mean_x = np.mean(data[:,2])\n",
    "    mean_y = np.mean(data[:,3])\n",
    "    data_x = (data[:,2]-mean_x)\n",
    "    data_y = (data[:,3]-mean_y)\n",
    "    max_val = max(abs(np.amax(data_x)),abs(np.amax(data_y)),abs(np.amin(data_x)),abs(np.amin(data_y)))\n",
    "    data_x = data_x/max_val\n",
    "    data_y = data_y/max_val\n",
    "    data_cleaned = np.empty((len(data),0), float)\n",
    "    data_cleaned = np.append(data_cleaned, data_x.reshape(len(data),1), axis=1)\n",
    "    data_cleaned = np.append(data_cleaned, data_y.reshape(len(data),1), axis=1)\n",
    "    data_cleaned = data_cleaned.astype(float)\n",
    "    np.savetxt(write_file, data_cleaned, delimiter=\",\")\n",
    "    read_file.close()\n",
    "    write_file.close()"
   ]
  }
 ],
 "metadata": {
  "anaconda-cloud": {},
  "kernelspec": {
   "display_name": "Python [Root]",
   "language": "python",
   "name": "Python [Root]"
  },
  "language_info": {
   "codemirror_mode": {
    "name": "ipython",
    "version": 2
   },
   "file_extension": ".py",
   "mimetype": "text/x-python",
   "name": "python",
   "nbconvert_exporter": "python",
   "pygments_lexer": "ipython2",
   "version": "2.7.12"
  }
 },
 "nbformat": 4,
 "nbformat_minor": 0
}
